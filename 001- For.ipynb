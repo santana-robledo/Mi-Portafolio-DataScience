{
 "cells": [
  {
   "cell_type": "code",
   "execution_count": 8,
   "id": "858e326d-6dc7-4ca9-a9ff-1071e13f7f7d",
   "metadata": {},
   "outputs": [
    {
     "name": "stdout",
     "output_type": "stream",
     "text": [
      "El numero más grande fue: 74\n"
     ]
    }
   ],
   "source": [
    "mas_grande=-1\n",
    "for numero in [9,41,56,74,8,34]:\n",
    "    if numero>mas_grande:\n",
    "        mas_grande=numero\n",
    "print(f\"El numero más grande fue:\",mas_grande)"
   ]
  },
  {
   "cell_type": "code",
   "execution_count": 18,
   "id": "64554f57-4370-45bf-b678-e11287b6187e",
   "metadata": {},
   "outputs": [
    {
     "name": "stdin",
     "output_type": "stream",
     "text": [
      "Ingresa nombre del estudiante gh\n"
     ]
    },
    {
     "name": "stdout",
     "output_type": "stream",
     "text": [
      "No se encontro al estudiante\n"
     ]
    }
   ],
   "source": [
    "nombre=input(\"Ingresa nombre del estudiante\")\n",
    "datos={\"Jose\":78,\"Migue\": 45,\"Ana\":4,\"Marcelo\":34}\n",
    "for estudiante in datos:\n",
    "    if estudiante==nombre:\n",
    "        print(f\"La calificacion del estudiante es:\",datos[estudiante])\n",
    "        break\n",
    "else:\n",
    "    print(\"No se encontro al estudiante\")"
   ]
  },
  {
   "cell_type": "code",
   "execution_count": 22,
   "id": "7fae492d-d1e3-4838-832d-dc8b7b67e24c",
   "metadata": {},
   "outputs": [
    {
     "name": "stdout",
     "output_type": "stream",
     "text": [
      "Manzana grande\n",
      "Manzana roja\n",
      "Manzana deliciosa\n",
      "Fresa grande\n",
      "Fresa roja\n",
      "Fresa deliciosa\n",
      "cereza grande\n",
      "cereza roja\n",
      "cereza deliciosa\n"
     ]
    }
   ],
   "source": [
    "frutas = [\"Manzana\",\"Fresa\",\"cereza\"]\n",
    "adjetivos = [\"grande\",\"roja\",\"deliciosa\"]\n",
    "\n",
    "for fruta in frutas:\n",
    "    for adjetivo in adjetivos:\n",
    "        print(fruta,adjetivo)"
   ]
  },
  {
   "cell_type": "code",
   "execution_count": 26,
   "id": "8e5750cd-83e3-4eb9-9709-a6216f16e6a7",
   "metadata": {},
   "outputs": [
    {
     "name": "stdout",
     "output_type": "stream",
     "text": [
      "40\n",
      "30\n",
      "20\n",
      "10\n"
     ]
    }
   ],
   "source": [
    "numeros = [10,20,30,40]\n",
    "for numero in reversed(numeros):\n",
    "    print(numero)"
   ]
  },
  {
   "cell_type": "code",
   "execution_count": 40,
   "id": "a0b99225-6ed5-4dc4-a397-377af6170eec",
   "metadata": {},
   "outputs": [
    {
     "name": "stdin",
     "output_type": "stream",
     "text": [
      "Numeros de tablas de multiplicar 5\n"
     ]
    },
    {
     "name": "stdout",
     "output_type": "stream",
     "text": [
      "Tabla de multiplicar del: 1\n",
      "1 2 3 4 5 6 7 8 9 10 \n",
      "\n",
      "Tabla de multiplicar del: 2\n",
      "2 4 6 8 10 12 14 16 18 20 \n",
      "\n",
      "Tabla de multiplicar del: 3\n",
      "3 6 9 12 15 18 21 24 27 30 \n",
      "\n",
      "Tabla de multiplicar del: 4\n",
      "4 8 12 16 20 24 28 32 36 40 \n",
      "\n",
      "Tabla de multiplicar del: 5\n",
      "5 10 15 20 25 30 35 40 45 50 \n",
      "\n"
     ]
    }
   ],
   "source": [
    "tablas=int(input(\"Numeros de tablas de multiplicar\"))\n",
    "for i in range(1, tablas+1):\n",
    "    print(\"Tabla de multiplicar del:\",i)\n",
    "    contador=1\n",
    "    while contador <11:\n",
    "        print(i*contador, end=\" \")\n",
    "        contador+=1\n",
    "    print(\"\\n\")"
   ]
  },
  {
   "cell_type": "code",
   "execution_count": null,
   "id": "08deafa2-36b9-4bf0-bae8-42e883e2d145",
   "metadata": {},
   "outputs": [],
   "source": []
  }
 ],
 "metadata": {
  "kernelspec": {
   "display_name": "Python [conda env:base] *",
   "language": "python",
   "name": "conda-base-py"
  },
  "language_info": {
   "codemirror_mode": {
    "name": "ipython",
    "version": 3
   },
   "file_extension": ".py",
   "mimetype": "text/x-python",
   "name": "python",
   "nbconvert_exporter": "python",
   "pygments_lexer": "ipython3",
   "version": "3.12.7"
  }
 },
 "nbformat": 4,
 "nbformat_minor": 5
}
