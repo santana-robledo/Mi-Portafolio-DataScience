{
 "cells": [
  {
   "cell_type": "code",
   "execution_count": 2,
   "id": "9896826d-026e-490f-8701-3b8a0543167d",
   "metadata": {},
   "outputs": [
    {
     "data": {
      "text/plain": [
       "14"
      ]
     },
     "execution_count": 2,
     "metadata": {},
     "output_type": "execute_result"
    }
   ],
   "source": [
    "import numpy as np\n",
    "accidentes= np.array([[0,1,1],[1,0,1],[1,3,2],[2,2,0]])\n",
    "accidentes.sum()"
   ]
  },
  {
   "cell_type": "code",
   "execution_count": 4,
   "id": "3bb98e53-ba81-482c-8983-191251b3f149",
   "metadata": {},
   "outputs": [
    {
     "data": {
      "text/plain": [
       "array([4, 6, 4])"
      ]
     },
     "execution_count": 4,
     "metadata": {},
     "output_type": "execute_result"
    }
   ],
   "source": [
    "accid_areas=accidentes.sum(axis=0)\n",
    "accid_areas"
   ]
  },
  {
   "cell_type": "code",
   "execution_count": 8,
   "id": "40c476ef-5bab-427f-bd0b-5d9bea94cd18",
   "metadata": {},
   "outputs": [
    {
     "name": "stdout",
     "output_type": "stream",
     "text": [
      "Los accidentes del área 1:  4\n",
      "Los accidentes del área 1:  6\n",
      "Los accidentes del área 1:  4\n"
     ]
    }
   ],
   "source": [
    "print(\"Los accidentes del área 1: \",accid_areas[0])\n",
    "print(\"Los accidentes del área 1: \",accid_areas[1])\n",
    "print(\"Los accidentes del área 1: \",accid_areas[2])"
   ]
  },
  {
   "cell_type": "code",
   "execution_count": 14,
   "id": "f1b99676-569a-42a9-bbd0-bb723d542911",
   "metadata": {},
   "outputs": [
    {
     "data": {
      "text/plain": [
       "array([[2],\n",
       "       [2],\n",
       "       [6],\n",
       "       [4]])"
      ]
     },
     "execution_count": 14,
     "metadata": {},
     "output_type": "execute_result"
    }
   ],
   "source": [
    "accid_anios=accidentes.sum(axis=1,keepdims=True)\n",
    "accid_anios"
   ]
  },
  {
   "cell_type": "code",
   "execution_count": 18,
   "id": "b770d5d2-8ccb-4439-9671-528f9c91beb2",
   "metadata": {},
   "outputs": [
    {
     "name": "stdout",
     "output_type": "stream",
     "text": [
      "Los accidentes del área 1:  [2]\n",
      "Los accidentes del área 2:  [2]\n",
      "Los accidentes del área 3:  [6]\n",
      "Los accidentes del área 4:  [4]\n"
     ]
    }
   ],
   "source": [
    "print(\"Los accidentes del área 1: \",accid_anios[0])\n",
    "print(\"Los accidentes del área 2: \",accid_anios[1])\n",
    "print(\"Los accidentes del área 3: \",accid_anios[2])\n",
    "print(\"Los accidentes del área 4: \",accid_anios[3])"
   ]
  },
  {
   "cell_type": "code",
   "execution_count": 22,
   "id": "38d90eee-b8d4-400b-9f41-fe6bd0adfa2d",
   "metadata": {},
   "outputs": [
    {
     "name": "stdout",
     "output_type": "stream",
     "text": [
      "Máximo de accidentes: 3\n",
      "Mínimo de accidentes: 0\n"
     ]
    }
   ],
   "source": [
    "maximo=accidentes.max()\n",
    "minimo=accidentes.min()\n",
    "print(f\"Máximo de accidentes: {maximo}\")\n",
    "print(f\"Mínimo de accidentes: {minimo}\")"
   ]
  },
  {
   "cell_type": "code",
   "execution_count": 24,
   "id": "4edd3e79-1792-45ad-bb4b-9a37de1588f1",
   "metadata": {},
   "outputs": [
    {
     "name": "stdout",
     "output_type": "stream",
     "text": [
      "Promedio de accidentes: 1.1666666666666667\n"
     ]
    }
   ],
   "source": [
    "promedio = accidentes.mean()\n",
    "print(f\"Promedio de accidentes: {promedio}\")"
   ]
  },
  {
   "cell_type": "code",
   "execution_count": 3,
   "id": "cd910db8-7606-4bce-9015-8c4473626b2e",
   "metadata": {},
   "outputs": [
    {
     "ename": "NameError",
     "evalue": "name 'np' is not defined",
     "output_type": "error",
     "traceback": [
      "\u001b[1;31m---------------------------------------------------------------------------\u001b[0m",
      "\u001b[1;31mNameError\u001b[0m                                 Traceback (most recent call last)",
      "Cell \u001b[1;32mIn[3], line 1\u001b[0m\n\u001b[1;32m----> 1\u001b[0m arreglo\u001b[38;5;241m=\u001b[39m np\u001b[38;5;241m.\u001b[39marray([[\u001b[38;5;241m1\u001b[39m,\u001b[38;5;241m2\u001b[39m,\u001b[38;5;241m3\u001b[39m],[\u001b[38;5;241m4\u001b[39m,\u001b[38;5;241m5\u001b[39m,\u001b[38;5;241m6\u001b[39m]])\n\u001b[0;32m      2\u001b[0m dimensiones\u001b[38;5;241m=\u001b[39marreglo\u001b[38;5;241m.\u001b[39mshape\n\u001b[0;32m      3\u001b[0m \u001b[38;5;28mprint\u001b[39m(dimensiones[\u001b[38;5;241m0\u001b[39m])\n",
      "\u001b[1;31mNameError\u001b[0m: name 'np' is not defined"
     ]
    }
   ],
   "source": [
    "\n",
    "arreglo= np.array([[1,2,3],[4,5,6]])\n",
    "dimensiones=arreglo.shape\n",
    "print(dimensiones[0])\n",
    "print(dimensiones[1])\n",
    "print(arreglo[0][0])"
   ]
  },
  {
   "cell_type": "code",
   "execution_count": 34,
   "id": "968c1c1c-1ed2-4708-873e-2145d6a7ef5e",
   "metadata": {},
   "outputs": [
    {
     "name": "stdout",
     "output_type": "stream",
     "text": [
      "[[3. 3. 3.]\n",
      " [3. 3. 3.]]\n",
      "Tiempo total de ejecución (segs) 0.029935359954833984\n"
     ]
    }
   ],
   "source": [
    "import time\n",
    "inicio= time.time()\n",
    "arreglo_final=np.zeros((2,3))\n",
    "\n",
    "for renglon in range(dimensiones[0]):\n",
    "    for columna in range(dimensiones[1]):\n",
    "        arreglo_final[renglon][columna]= arreglo_final[renglon][columna] + 3\n",
    "print(arreglo_final)\n",
    "\n",
    "fin=time.time()\n",
    "print(\"Tiempo total de ejecución (segs)\", fin - inicio)"
   ]
  },
  {
   "cell_type": "code",
   "execution_count": 36,
   "id": "d972eebc-29c3-4416-9d9a-c86b96a1844e",
   "metadata": {},
   "outputs": [
    {
     "name": "stdout",
     "output_type": "stream",
     "text": [
      "[[4 5 6]\n",
      " [7 8 9]]\n",
      "Tiempo total de ejecución (segs) 0.01628851890563965\n"
     ]
    }
   ],
   "source": [
    "import time\n",
    "inicio= time.time()\n",
    "\n",
    "arreglo_final=arreglo + 3\n",
    "print(arreglo_final)\n",
    "\n",
    "fin= time.time()\n",
    "print(\"Tiempo total de ejecución (segs)\", fin - inicio)"
   ]
  },
  {
   "cell_type": "code",
   "execution_count": 5,
   "id": "08be46a6-d77f-4065-8038-312a1968d957",
   "metadata": {},
   "outputs": [
    {
     "data": {
      "text/plain": [
       "array([[ 3,  6,  9],\n",
       "       [12, 15, 18]])"
      ]
     },
     "execution_count": 5,
     "metadata": {},
     "output_type": "execute_result"
    }
   ],
   "source": [
    "import numpy as np\n",
    "arreglo= np.array([[1,2,3],[4,5,6]])\n",
    "arreglo_prod=arreglo * 3\n",
    "arreglo_prod"
   ]
  },
  {
   "cell_type": "code",
   "execution_count": 7,
   "id": "3a74be43-4437-45c2-9092-5b8f70d65ce3",
   "metadata": {},
   "outputs": [
    {
     "data": {
      "text/plain": [
       "array([[ 8, 10, 12],\n",
       "       [14, 16, 18]])"
      ]
     },
     "execution_count": 7,
     "metadata": {},
     "output_type": "execute_result"
    }
   ],
   "source": [
    "arreglo1=np.array([[1,2,3],[4,5,6]])\n",
    "arreglo2=np.array([[7,8,9],[10,11,12]])\n",
    "arreglo3= arreglo1+arreglo2\n",
    "arreglo3"
   ]
  },
  {
   "cell_type": "code",
   "execution_count": 11,
   "id": "b5c13856-430d-4c34-85fa-8bb92833387c",
   "metadata": {},
   "outputs": [
    {
     "data": {
      "text/plain": [
       "array([[False, False,  True],\n",
       "       [ True,  True,  True]])"
      ]
     },
     "execution_count": 11,
     "metadata": {},
     "output_type": "execute_result"
    }
   ],
   "source": [
    "arreglo1 >2"
   ]
  },
  {
   "cell_type": "code",
   "execution_count": 15,
   "id": "e5845184-a0b4-4040-9806-af79b29a1307",
   "metadata": {},
   "outputs": [
    {
     "data": {
      "text/plain": [
       "False"
      ]
     },
     "execution_count": 15,
     "metadata": {},
     "output_type": "execute_result"
    }
   ],
   "source": [
    "arreglo= np.array([\"Numpy\",\"maneja\",\"vectorizacion\"])\n",
    "len(arreglo)>5"
   ]
  },
  {
   "cell_type": "code",
   "execution_count": 21,
   "id": "408c40d4-f993-4ecb-967c-af482c93464a",
   "metadata": {},
   "outputs": [
    {
     "data": {
      "text/plain": [
       "array([False,  True,  True])"
      ]
     },
     "execution_count": 21,
     "metadata": {},
     "output_type": "execute_result"
    }
   ],
   "source": [
    "len_vectorizada= np.vectorize(len)\n",
    "len_vectorizada(arreglo)>5"
   ]
  },
  {
   "cell_type": "code",
   "execution_count": 23,
   "id": "ffeebe55-b913-4772-a647-33b09380a7fd",
   "metadata": {},
   "outputs": [
    {
     "data": {
      "text/plain": [
       "array([[0, 1, 2, 3, 4],\n",
       "       [5, 6, 7, 8, 9]])"
      ]
     },
     "execution_count": 23,
     "metadata": {},
     "output_type": "execute_result"
    }
   ],
   "source": [
    "arreglo= np.arange(10).reshape((2,5))\n",
    "arreglo"
   ]
  },
  {
   "cell_type": "code",
   "execution_count": 27,
   "id": "d86bfbe1-5d65-4c42-ab51-4e5f5589d8e9",
   "metadata": {},
   "outputs": [
    {
     "data": {
      "text/plain": [
       "array([[ 0,  2,  4,  6,  8],\n",
       "       [ 5,  7,  9, 11, 13]])"
      ]
     },
     "execution_count": 27,
     "metadata": {},
     "output_type": "execute_result"
    }
   ],
   "source": [
    "arreglo + np.array([0,1,2,3,4])"
   ]
  },
  {
   "cell_type": "code",
   "execution_count": 29,
   "id": "c1a876b8-5de8-43f9-b57d-b3969ecfcbc6",
   "metadata": {},
   "outputs": [
    {
     "data": {
      "text/plain": [
       "array([[ 0,  1,  2,  3,  4],\n",
       "       [ 6,  7,  8,  9, 10]])"
      ]
     },
     "execution_count": 29,
     "metadata": {},
     "output_type": "execute_result"
    }
   ],
   "source": [
    "arreglo= np.arange(10).reshape((2,5))\n",
    "arreglo + np.array([0,1]).reshape((2,1))"
   ]
  },
  {
   "cell_type": "code",
   "execution_count": 31,
   "id": "46dacc63-2c6c-404c-9816-a382a510b09f",
   "metadata": {},
   "outputs": [
    {
     "data": {
      "text/plain": [
       "array([[4.3, 4.2, 4.1],\n",
       "       [2.3, 2.2, 2.1],\n",
       "       [1.3, 1.2, 1.1]])"
      ]
     },
     "execution_count": 31,
     "metadata": {},
     "output_type": "execute_result"
    }
   ],
   "source": [
    "arreglo= np.array([[1.1,1.2,1.3],[2.1,2.2,2.3],[4.1,4.2,4.3]])\n",
    "np.flip(arreglo)"
   ]
  },
  {
   "cell_type": "code",
   "execution_count": 33,
   "id": "f75a70fc-fe3e-4652-8b0d-f968ae178b91",
   "metadata": {},
   "outputs": [
    {
     "data": {
      "text/plain": [
       "array([[1.1, 2.1, 4.1],\n",
       "       [1.2, 2.2, 4.2],\n",
       "       [1.3, 2.3, 4.3]])"
      ]
     },
     "execution_count": 33,
     "metadata": {},
     "output_type": "execute_result"
    }
   ],
   "source": [
    "arreglo= np.array([[1.1,1.2,1.3],[2.1,2.2,2.3],[4.1,4.2,4.3]])\n",
    "np.transpose(arreglo)"
   ]
  },
  {
   "cell_type": "code",
   "execution_count": 37,
   "id": "89259c79-9c1a-4ae9-ba66-24a9e7482e16",
   "metadata": {},
   "outputs": [
    {
     "data": {
      "text/plain": [
       "array([[ 5, 10],\n",
       "       [30, 40]])"
      ]
     },
     "execution_count": 37,
     "metadata": {},
     "output_type": "execute_result"
    }
   ],
   "source": [
    "np.array([[1,2],[3,4]]) * np.array([[5],[10]])\n",
    "arreglo"
   ]
  },
  {
   "cell_type": "code",
   "execution_count": 43,
   "id": "b548e023-ed4c-4b8e-a811-64846c2185eb",
   "metadata": {},
   "outputs": [
    {
     "data": {
      "text/plain": [
       "array([[-4, -8],\n",
       "       [-2, -6]])"
      ]
     },
     "execution_count": 43,
     "metadata": {},
     "output_type": "execute_result"
    }
   ],
   "source": [
    "np.array([[1,2],[3,4]]) - np.array([[5,10]])"
   ]
  },
  {
   "cell_type": "code",
   "execution_count": null,
   "id": "33b3f8ca-8814-4da6-93c9-0f47c887cda6",
   "metadata": {},
   "outputs": [],
   "source": []
  }
 ],
 "metadata": {
  "kernelspec": {
   "display_name": "Python [conda env:base] *",
   "language": "python",
   "name": "conda-base-py"
  },
  "language_info": {
   "codemirror_mode": {
    "name": "ipython",
    "version": 3
   },
   "file_extension": ".py",
   "mimetype": "text/x-python",
   "name": "python",
   "nbconvert_exporter": "python",
   "pygments_lexer": "ipython3",
   "version": "3.12.7"
  }
 },
 "nbformat": 4,
 "nbformat_minor": 5
}
