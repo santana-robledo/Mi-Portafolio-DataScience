{
 "cells": [
  {
   "cell_type": "code",
   "execution_count": 3,
   "id": "5b98bb33-5236-4ab8-aea0-9d93125a1c94",
   "metadata": {},
   "outputs": [],
   "source": [
    "class complejo:\n",
    "    def __init__(self, real, imaginario):\n",
    "        self.real=real\n",
    "        self.imaginario=imaginario\n",
    "        \n",
    "    def agregar(self,numero):\n",
    "        real=self.real+numero.real\n",
    "        imaginario= self.imaginario + numero.imaginario\n",
    "        resultado=complejo(real,imaginario)\n",
    "        return resultado\n",
    "    \n",
    "        \n",
    "    "
   ]
  },
  {
   "cell_type": "code",
   "execution_count": 5,
   "id": "910849dc-8b43-495f-89a6-11dca6834932",
   "metadata": {},
   "outputs": [
    {
     "name": "stdout",
     "output_type": "stream",
     "text": [
      "Parte real: 5\n",
      "Parte imaginaria: 7\n"
     ]
    }
   ],
   "source": [
    "numero1=complejo(2,3)\n",
    "numero2=complejo(3,4)\n",
    "\n",
    "suma=numero1.agregar(numero2)\n",
    "print(\"Parte real:\",suma.real)\n",
    "print(\"Parte imaginaria:\",suma.imaginario)"
   ]
  },
  {
   "cell_type": "code",
   "execution_count": 7,
   "id": "36c216d0-6196-4ed6-a88f-355058e98760",
   "metadata": {},
   "outputs": [],
   "source": [
    "del numero1"
   ]
  },
  {
   "cell_type": "code",
   "execution_count": 11,
   "id": "bc574ac8-3107-4463-8db5-16836d400153",
   "metadata": {},
   "outputs": [
    {
     "name": "stdout",
     "output_type": "stream",
     "text": [
      "Hola mi nombre esJuan\n"
     ]
    }
   ],
   "source": [
    "class persona:\n",
    "    def __init__(objeto,nombre,edad):\n",
    "        objeto.nombre=nombre\n",
    "        objeto.edad=edad\n",
    "\n",
    "    def mensaje(objeto):\n",
    "        print(\"Hola mi nombre es\" + objeto.nombre)\n",
    "\n",
    "persona1=persona(\"Juan\",36)\n",
    "persona1.mensaje()"
   ]
  },
  {
   "cell_type": "code",
   "execution_count": 23,
   "id": "a86e7258-3cae-4264-b4fe-8e42967231aa",
   "metadata": {},
   "outputs": [],
   "source": [
    "class Triangulo:\n",
    "    def __init__(self,a,b,c):\n",
    "        self.a=a\n",
    "        self.b=b\n",
    "        self.c=c\n",
    "        \n",
    "    def perimetro(self):\n",
    "        return self.a+self.b+self.c"
   ]
  },
  {
   "cell_type": "code",
   "execution_count": 25,
   "id": "e97c7666-028f-42ae-9ccf-1e6ced4f7493",
   "metadata": {},
   "outputs": [
    {
     "name": "stdout",
     "output_type": "stream",
     "text": [
      "9\n"
     ]
    }
   ],
   "source": [
    "triangulo1=Triangulo(2,3,4)\n",
    "perimetro=triangulo1.perimetro()\n",
    "print(perimetro)"
   ]
  },
  {
   "cell_type": "code",
   "execution_count": 31,
   "id": "acdb2744-a072-48e5-a3c2-45dadbf1aaea",
   "metadata": {},
   "outputs": [
    {
     "name": "stdout",
     "output_type": "stream",
     "text": [
      "Sesión experta\n"
     ]
    }
   ],
   "source": [
    "class Expertos:\n",
    "    def __init__(self):\n",
    "        self.texto=\"Sesión experta\"\n",
    "        \n",
    "    def imprime_texto(self):\n",
    "        print(self.texto)\n",
    "        \n",
    "elemento=Expertos()\n",
    "elemento.imprime_texto()\n",
    "        "
   ]
  },
  {
   "cell_type": "code",
   "execution_count": 33,
   "id": "6963ea3b-7a12-4bd8-bca2-345eafc3a68f",
   "metadata": {},
   "outputs": [
    {
     "name": "stdout",
     "output_type": "stream",
     "text": [
      "Primer número: 1000\n",
      "Segundo número: 2000\n",
      "Total: 3000\n"
     ]
    }
   ],
   "source": [
    "class Adicion:\n",
    "    respuesta=0\n",
    "\n",
    "    def __init__(self,primero,segundo):\n",
    "        self.primero=primero\n",
    "        self.segundo=segundo\n",
    "\n",
    "    def calcula(self):\n",
    "        self.respuesta=self.primero+self.segundo\n",
    "    def mostrar(self):\n",
    "        print(\"Primer número: \"+ str(self.primero))\n",
    "        print(\"Segundo número: \"+ str(self.segundo))\n",
    "        print(\"Total: \"+ str(self.respuesta))\n",
    "\n",
    "obj=Adicion(1000,2000)\n",
    "obj.calcula()\n",
    "obj.mostrar()\n",
    "\n",
    "    "
   ]
  },
  {
   "cell_type": "code",
   "execution_count": 41,
   "id": "87d07ec6-31d4-4e89-8a54-259374484b56",
   "metadata": {},
   "outputs": [
    {
     "name": "stdout",
     "output_type": "stream",
     "text": [
      "Mi nombre es Manuel Gomez, tengo 26 años y estudio derecho\n"
     ]
    }
   ],
   "source": [
    "class Estudiante(object):   ##Clase padre\n",
    "    def __init__(self,edad,nombre):\n",
    "        self.edad=edad\n",
    "        self.nombre=nombre\n",
    "        \n",
    "class Derecho(Estudiante):   ##Clase hija\n",
    "    def presentarse(self):\n",
    "        print(f\"Mi nombre es {self.nombre}, tengo {self.edad} años y estudio derecho\")\n",
    "\n",
    "Manuel=Derecho(26,\"Manuel Gomez\")\n",
    "Manuel.presentarse()"
   ]
  },
  {
   "cell_type": "code",
   "execution_count": 43,
   "id": "860e15ee-3a9b-4277-9ccd-bf2e1b85d51a",
   "metadata": {},
   "outputs": [
    {
     "name": "stdout",
     "output_type": "stream",
     "text": [
      "Mi nombre es Manuel Contreras, tengo 26 años y estudio derecho\n",
      "Estudio en el instituto de leyes\n"
     ]
    }
   ],
   "source": [
    "##Ejemplo de herencia multiple\n",
    "\n",
    "class Estudiante(object):   ##Clase padre 1\n",
    "    def __init__(self,edad,nombre):\n",
    "        self.edad=edad\n",
    "        self.nombre=nombre\n",
    "\n",
    "class Instituto(object):   ##Clase padre 2\n",
    "    def presentar_instituto(self):\n",
    "        print(\"Estudio en el instituto de leyes\")\n",
    "\n",
    "class Derecho(Estudiante,Instituto): ##Clase hija\n",
    "    def presentarse(self):\n",
    "        print(f\"Mi nombre es {self.nombre}, tengo {self.edad} años y estudio derecho\")\n",
    "\n",
    "Manuel=Derecho(26,\"Manuel Contreras\")\n",
    "Manuel.presentarse()\n",
    "Manuel.presentar_instituto()"
   ]
  },
  {
   "cell_type": "code",
   "execution_count": 53,
   "id": "ece829a6-5f7c-4660-b348-d2d81c230683",
   "metadata": {},
   "outputs": [],
   "source": [
    "class Figura(object):   ##Clase padre 1\n",
    "    def area(self):\n",
    "        pass\n",
    "\n",
    "class Triangulo(Figura):\n",
    "    def __init__(self,base=0,altura=0):\n",
    "        self.base=base\n",
    "        self.altura=altura\n",
    "    def area(self):\n",
    "        return (self.base*self.altura)/2\n",
    "\n",
    "class Circulo(Figura):\n",
    "    def __init__(self,radio=0):\n",
    "        self.radio=radio\n",
    "    def area(self):\n",
    "        return 3.1416*(self.radio ** 2)\n",
    "        "
   ]
  },
  {
   "cell_type": "code",
   "execution_count": 59,
   "id": "7c5ee594-6ae1-4954-bbad-fc606a9c53a7",
   "metadata": {},
   "outputs": [
    {
     "data": {
      "text/plain": [
       "50.2656"
      ]
     },
     "execution_count": 59,
     "metadata": {},
     "output_type": "execute_result"
    }
   ],
   "source": [
    "c=Circulo(4)\n",
    "c.area()"
   ]
  },
  {
   "cell_type": "code",
   "execution_count": 57,
   "id": "7564aa2e-e436-4dc9-bc5c-14cb25a9842f",
   "metadata": {},
   "outputs": [
    {
     "data": {
      "text/plain": [
       "7.5"
      ]
     },
     "execution_count": 57,
     "metadata": {},
     "output_type": "execute_result"
    }
   ],
   "source": [
    "t=Triangulo(3,5)\n",
    "t.area()"
   ]
  },
  {
   "cell_type": "code",
   "execution_count": null,
   "id": "8ac4df03-7f5e-4888-8cbe-8d7102479e7c",
   "metadata": {},
   "outputs": [],
   "source": []
  }
 ],
 "metadata": {
  "kernelspec": {
   "display_name": "Python [conda env:base] *",
   "language": "python",
   "name": "conda-base-py"
  },
  "language_info": {
   "codemirror_mode": {
    "name": "ipython",
    "version": 3
   },
   "file_extension": ".py",
   "mimetype": "text/x-python",
   "name": "python",
   "nbconvert_exporter": "python",
   "pygments_lexer": "ipython3",
   "version": "3.12.7"
  }
 },
 "nbformat": 4,
 "nbformat_minor": 5
}
