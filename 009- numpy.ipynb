{
 "cells": [
  {
   "cell_type": "code",
   "execution_count": 2,
   "id": "c31eac2f-b693-4926-921f-0a263f7d75e9",
   "metadata": {},
   "outputs": [
    {
     "data": {
      "text/plain": [
       "array([1, 2, 3, 4, 5])"
      ]
     },
     "execution_count": 2,
     "metadata": {},
     "output_type": "execute_result"
    }
   ],
   "source": [
    "import numpy as np\n",
    "lista1= [1,2,3,4,5]\n",
    "arreglo1= np.array(lista1)\n",
    "arreglo1"
   ]
  },
  {
   "cell_type": "code",
   "execution_count": 6,
   "id": "f836a14b-1484-41c1-8590-504b1bad1bb8",
   "metadata": {},
   "outputs": [
    {
     "data": {
      "text/plain": [
       "numpy.ndarray"
      ]
     },
     "execution_count": 6,
     "metadata": {},
     "output_type": "execute_result"
    }
   ],
   "source": [
    "type(arreglo1)"
   ]
  },
  {
   "cell_type": "code",
   "execution_count": 10,
   "id": "673cb82c-b154-460c-9850-a3e8b78739a6",
   "metadata": {},
   "outputs": [
    {
     "data": {
      "text/plain": [
       "array([[1, 2, 3],\n",
       "       [4, 5, 6],\n",
       "       [7, 8, 9]])"
      ]
     },
     "execution_count": 10,
     "metadata": {},
     "output_type": "execute_result"
    }
   ],
   "source": [
    "lista2=[[1,2,3],[4,5,6],[7,8,9]]\n",
    "arreglo2=np.array(lista2)\n",
    "arreglo2"
   ]
  },
  {
   "cell_type": "code",
   "execution_count": 12,
   "id": "8c0f90e0-693c-4505-a14d-60d641b0567a",
   "metadata": {},
   "outputs": [
    {
     "data": {
      "text/plain": [
       "['a', True, 1]"
      ]
     },
     "execution_count": 12,
     "metadata": {},
     "output_type": "execute_result"
    }
   ],
   "source": [
    "lista=[\"a\",True,1]\n",
    "lista"
   ]
  },
  {
   "cell_type": "code",
   "execution_count": 14,
   "id": "c3d491b1-5467-479c-87f3-bb904439091b",
   "metadata": {},
   "outputs": [
    {
     "data": {
      "text/plain": [
       "array([[0., 0., 0., 0.],\n",
       "       [0., 0., 0., 0.],\n",
       "       [0., 0., 0., 0.],\n",
       "       [0., 0., 0., 0.],\n",
       "       [0., 0., 0., 0.]])"
      ]
     },
     "execution_count": 14,
     "metadata": {},
     "output_type": "execute_result"
    }
   ],
   "source": [
    "arreglo3=np.zeros((5,4))\n",
    "arreglo3"
   ]
  },
  {
   "cell_type": "code",
   "execution_count": 16,
   "id": "c12590ac-c268-4105-859f-316f0a3e6e60",
   "metadata": {},
   "outputs": [
    {
     "data": {
      "text/plain": [
       "array([[0.15987053, 0.43481053],\n",
       "       [0.24134036, 0.20264264],\n",
       "       [0.71157911, 0.21591945]])"
      ]
     },
     "execution_count": 16,
     "metadata": {},
     "output_type": "execute_result"
    }
   ],
   "source": [
    "np.random.random((3,2))"
   ]
  },
  {
   "cell_type": "code",
   "execution_count": 18,
   "id": "73b05867-cd8e-4f1d-b35b-2a1a88e45e2c",
   "metadata": {},
   "outputs": [
    {
     "data": {
      "text/plain": [
       "array([-2, -1,  0,  1,  2,  3,  4,  5,  6])"
      ]
     },
     "execution_count": 18,
     "metadata": {},
     "output_type": "execute_result"
    }
   ],
   "source": [
    "np.arange(-2,7)"
   ]
  },
  {
   "cell_type": "code",
   "execution_count": 20,
   "id": "a485d56f-275b-4b3b-879b-8cd23c7e3da5",
   "metadata": {},
   "outputs": [
    {
     "data": {
      "text/plain": [
       "array([0, 1, 2, 3, 4])"
      ]
     },
     "execution_count": 20,
     "metadata": {},
     "output_type": "execute_result"
    }
   ],
   "source": [
    "np.arange(5)"
   ]
  },
  {
   "cell_type": "code",
   "execution_count": 22,
   "id": "f3f931cc-5805-4fb3-92bf-f272a8d4f194",
   "metadata": {},
   "outputs": [],
   "source": [
    "arreglo1= np.array([[1,2],[5,7]])\n",
    "arreglo2= np.array([[8,9],[5,7]])\n",
    "arreglo3= np.array([[1,2],[5,7]])"
   ]
  },
  {
   "cell_type": "code",
   "execution_count": 24,
   "id": "23ed8c04-1838-4ed1-8229-9f20e0405973",
   "metadata": {},
   "outputs": [
    {
     "data": {
      "text/plain": [
       "array([[[1, 2],\n",
       "        [5, 7]],\n",
       "\n",
       "       [[8, 9],\n",
       "        [5, 7]],\n",
       "\n",
       "       [[1, 2],\n",
       "        [5, 7]]])"
      ]
     },
     "execution_count": 24,
     "metadata": {},
     "output_type": "execute_result"
    }
   ],
   "source": [
    "arreglo4=np.array([arreglo1,arreglo2,arreglo3])\n",
    "arreglo4"
   ]
  },
  {
   "cell_type": "code",
   "execution_count": 26,
   "id": "da166207-8ee9-4017-a6e0-fceea70ed166",
   "metadata": {},
   "outputs": [
    {
     "data": {
      "text/plain": [
       "(2, 2)"
      ]
     },
     "execution_count": 26,
     "metadata": {},
     "output_type": "execute_result"
    }
   ],
   "source": [
    "arreglo3.shape"
   ]
  },
  {
   "cell_type": "code",
   "execution_count": 28,
   "id": "d07663c6-a139-44db-b481-4221eaac6b04",
   "metadata": {},
   "outputs": [
    {
     "data": {
      "text/plain": [
       "array([[1, 2, 3],\n",
       "       [4, 5, 6],\n",
       "       [7, 8, 9]])"
      ]
     },
     "execution_count": 28,
     "metadata": {},
     "output_type": "execute_result"
    }
   ],
   "source": [
    "lista2= [[1,2,3],[4,5,6],[7,8,9]]\n",
    "arreglo2=np.array(lista2)\n",
    "arreglo2"
   ]
  },
  {
   "cell_type": "code",
   "execution_count": 30,
   "id": "c42c754d-76f8-4265-9878-cf0797e8adcc",
   "metadata": {},
   "outputs": [
    {
     "data": {
      "text/plain": [
       "array([1, 2, 3, 4, 5, 6, 7, 8, 9])"
      ]
     },
     "execution_count": 30,
     "metadata": {},
     "output_type": "execute_result"
    }
   ],
   "source": [
    "arreglo2.flatten()"
   ]
  },
  {
   "cell_type": "code",
   "execution_count": 34,
   "id": "6576d4d4-a4fd-44fa-a40c-cccfbb578c1a",
   "metadata": {},
   "outputs": [
    {
     "data": {
      "text/plain": [
       "array([[1, 2, 3],\n",
       "       [4, 5, 6]])"
      ]
     },
     "execution_count": 34,
     "metadata": {},
     "output_type": "execute_result"
    }
   ],
   "source": [
    "arreglo= np.array([[1,2],[3,4],[5,6]])\n",
    "arreglo.reshape(2,3)"
   ]
  },
  {
   "cell_type": "code",
   "execution_count": 39,
   "id": "f414fb6f-7037-4288-b81c-5acf3f37f4ac",
   "metadata": {},
   "outputs": [
    {
     "data": {
      "text/plain": [
       "dtype('float64')"
      ]
     },
     "execution_count": 39,
     "metadata": {},
     "output_type": "execute_result"
    }
   ],
   "source": [
    "np.array([1.25,2.43,200.88]).dtype"
   ]
  },
  {
   "cell_type": "code",
   "execution_count": 41,
   "id": "eeca2358-ed4d-44d0-a0ac-617835cb38c7",
   "metadata": {},
   "outputs": [
    {
     "data": {
      "text/plain": [
       "dtype('<U12')"
      ]
     },
     "execution_count": 41,
     "metadata": {},
     "output_type": "execute_result"
    }
   ],
   "source": [
    "arreglo_string=np.array([\"Introduccion\",\"a\",\"la\",\"programacion\"])\n",
    "arreglo_string.dtype"
   ]
  },
  {
   "cell_type": "code",
   "execution_count": 45,
   "id": "a8f4da8a-fdae-408d-9520-22fe938b0525",
   "metadata": {},
   "outputs": [
    {
     "data": {
      "text/plain": [
       "dtype('float32')"
      ]
     },
     "execution_count": 45,
     "metadata": {},
     "output_type": "execute_result"
    }
   ],
   "source": [
    "arreglo=np.array([1.25,2.43,200.88],dtype=np.float32)\n",
    "arreglo.dtype"
   ]
  },
  {
   "cell_type": "code",
   "execution_count": 53,
   "id": "02c7cee8-87fe-4f1f-944d-9358551bc7b0",
   "metadata": {},
   "outputs": [
    {
     "data": {
      "text/plain": [
       "dtype('bool')"
      ]
     },
     "execution_count": 53,
     "metadata": {},
     "output_type": "execute_result"
    }
   ],
   "source": [
    "arreglo_boolean= np.array([True,False],dtype=np.bool_)\n",
    "arreglo_boolean.dtype"
   ]
  },
  {
   "cell_type": "code",
   "execution_count": 55,
   "id": "3f88b61c-f982-4b31-9034-0bce9a1f36b8",
   "metadata": {},
   "outputs": [
    {
     "data": {
      "text/plain": [
       "array([1, 0])"
      ]
     },
     "execution_count": 55,
     "metadata": {},
     "output_type": "execute_result"
    }
   ],
   "source": [
    "arreglo_boolean2= arreglo_boolean.astype(np.int32)\n",
    "arreglo_boolean2"
   ]
  },
  {
   "cell_type": "code",
   "execution_count": 57,
   "id": "00922104-cd5e-4dad-a117-372b4c289b57",
   "metadata": {},
   "outputs": [
    {
     "data": {
      "text/plain": [
       "dtype('float64')"
      ]
     },
     "execution_count": 57,
     "metadata": {},
     "output_type": "execute_result"
    }
   ],
   "source": [
    "np.array([0,50,50.8]).dtype"
   ]
  },
  {
   "cell_type": "code",
   "execution_count": 59,
   "id": "857c1228-5001-4b42-aef6-28e26e467e06",
   "metadata": {},
   "outputs": [
    {
     "data": {
      "text/plain": [
       "dtype('int32')"
      ]
     },
     "execution_count": 59,
     "metadata": {},
     "output_type": "execute_result"
    }
   ],
   "source": [
    "np.array([0,False,42]).dtype"
   ]
  },
  {
   "cell_type": "code",
   "execution_count": null,
   "id": "eb04bb3e-3aff-48a8-a7f4-efe7d55cda9e",
   "metadata": {},
   "outputs": [],
   "source": []
  }
 ],
 "metadata": {
  "kernelspec": {
   "display_name": "Python [conda env:base] *",
   "language": "python",
   "name": "conda-base-py"
  },
  "language_info": {
   "codemirror_mode": {
    "name": "ipython",
    "version": 3
   },
   "file_extension": ".py",
   "mimetype": "text/x-python",
   "name": "python",
   "nbconvert_exporter": "python",
   "pygments_lexer": "ipython3",
   "version": "3.12.7"
  }
 },
 "nbformat": 4,
 "nbformat_minor": 5
}
