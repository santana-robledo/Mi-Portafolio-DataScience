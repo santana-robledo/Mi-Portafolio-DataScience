{
 "cells": [
  {
   "cell_type": "code",
   "execution_count": null,
   "id": "f2f19c68-e347-467a-b4df-289ba688244d",
   "metadata": {},
   "outputs": [],
   "source": [
    "n=4\n",
    "while n > 0:\n",
    "    print(n)\n",
    "    n=n-1\n",
    "print(\"Fin\")"
   ]
  },
  {
   "cell_type": "code",
   "execution_count": null,
   "id": "bb14a0a5-709a-48f5-b485-c3cd4500f365",
   "metadata": {},
   "outputs": [],
   "source": [
    "n=0\n",
    "while n > 0:\n",
    "    print(\"Uno\")\n",
    "    print(\"Dos\")\n",
    "print(\"Fin\")"
   ]
  },
  {
   "cell_type": "code",
   "execution_count": null,
   "id": "d93b5963-a23f-49cf-8dca-cc30cd60225c",
   "metadata": {},
   "outputs": [],
   "source": [
    "while True:\n",
    "    linea=input(\"Escriba un texto: \")\n",
    "    if linea == \"Fin\":\n",
    "        break\n",
    "    else:\n",
    "        print(linea)\n",
    "print(\"Proceso terminado\")"
   ]
  },
  {
   "cell_type": "code",
   "execution_count": null,
   "id": "1455beb7-800a-4f4f-be4d-42421986c319",
   "metadata": {},
   "outputs": [],
   "source": [
    "while True:\n",
    "    linea=input(\"Escriba un texto: \")\n",
    "    if linea[0]==\"a\":\n",
    "        continue\n",
    "    if linea == \"Fin\":\n",
    "        break\n",
    "    print(linea)\n",
    "print(\"Proceso terminado\")"
   ]
  },
  {
   "cell_type": "code",
   "execution_count": null,
   "id": "6d1e9c98-b785-4f28-bad9-483f91aade7a",
   "metadata": {},
   "outputs": [],
   "source": [
    "i=1\n",
    "while i<6:\n",
    "    print(i)\n",
    "    i +=1\n",
    "else:\n",
    "    print(\"i ya no es mayor a 6\")"
   ]
  },
  {
   "cell_type": "code",
   "execution_count": null,
   "id": "40b5bfbf-8e48-442a-a54f-4ac71e8540c8",
   "metadata": {},
   "outputs": [],
   "source": [
    "n=int(input(\"Captura el valor de n: \"))\n",
    "suma=0\n",
    "i=1\n",
    "\n",
    "while i<=n:\n",
    "    suma+=i\n",
    "    i+=1\n",
    "print(\"La suma es: \",suma)"
   ]
  },
  {
   "cell_type": "code",
   "execution_count": null,
   "id": "54e7ae08-2330-4b82-832f-440815a40408",
   "metadata": {},
   "outputs": [],
   "source": [
    "lista = [\"a\",\"b\",\"c\"]\n",
    "while lista:\n",
    "    print(lista.pop(-1))\n",
    "lista  "
   ]
  },
  {
   "cell_type": "code",
   "execution_count": null,
   "id": "25319098-2303-4ade-991a-2dec14452b82",
   "metadata": {},
   "outputs": [],
   "source": [
    "n=5\n",
    "while n > 0: n-=1;print(n)"
   ]
  },
  {
   "cell_type": "code",
   "execution_count": null,
   "id": "7ebbddcb-1f09-41ef-8bfe-f4d412ebd2d8",
   "metadata": {},
   "outputs": [],
   "source": [
    "numeros=(1,2,3,4,5,6,7,8,9,10)\n",
    "valores=len(numeros)\n",
    "impares=0\n",
    "pares=0\n",
    "contador=1\n",
    "\n",
    "while contador<=valores:\n",
    "    if numeros[contador-1]%2 ==0:\n",
    "        pares+=1\n",
    "    else:\n",
    "        impares+=1\n",
    "    contador+=1\n",
    "        \n",
    "print(\"Numeros de pares:\",pares)\n",
    "print(\"Numeros de impares:\",impares)"
   ]
  },
  {
   "cell_type": "code",
   "execution_count": 22,
   "id": "7481bf54-f557-401e-8a57-b9a8db9b61ea",
   "metadata": {},
   "outputs": [
    {
     "name": "stdout",
     "output_type": "stream",
     "text": [
      "1\n",
      "1\n",
      "2\n",
      "3\n",
      "5\n",
      "8\n",
      "13\n",
      "21\n",
      "34\n"
     ]
    }
   ],
   "source": [
    "x,y=0,1\n",
    "print(y)\n",
    "\n",
    "while x+y<50:\n",
    "    x= x+y\n",
    "    print(x)\n",
    "    y=x+y\n",
    "    print(y)"
   ]
  },
  {
   "cell_type": "code",
   "execution_count": 24,
   "id": "4e3d7430-455b-48a2-978d-cf5cc3cb9042",
   "metadata": {},
   "outputs": [
    {
     "name": "stdout",
     "output_type": "stream",
     "text": [
      "0\n",
      "1\n",
      "1\n",
      "2\n",
      "3\n",
      "5\n",
      "8\n",
      "13\n",
      "21\n",
      "34\n"
     ]
    }
   ],
   "source": [
    "x,y=0,1\n",
    "print(x)\n",
    "while y<50:\n",
    "    print(y)\n",
    "    x,y= y,x+y"
   ]
  },
  {
   "cell_type": "code",
   "execution_count": null,
   "id": "1c85bd26-b712-48d5-b904-c2a9ad9e091c",
   "metadata": {},
   "outputs": [],
   "source": []
  }
 ],
 "metadata": {
  "kernelspec": {
   "display_name": "Python [conda env:base] *",
   "language": "python",
   "name": "conda-base-py"
  },
  "language_info": {
   "codemirror_mode": {
    "name": "ipython",
    "version": 3
   },
   "file_extension": ".py",
   "mimetype": "text/x-python",
   "name": "python",
   "nbconvert_exporter": "python",
   "pygments_lexer": "ipython3",
   "version": "3.12.7"
  }
 },
 "nbformat": 4,
 "nbformat_minor": 5
}
